{
  "nbformat": 4,
  "nbformat_minor": 0,
  "metadata": {
    "colab": {
      "provenance": [],
      "authorship_tag": "ABX9TyOSZ1gucYV2ibRAaAdJNLMz",
      "include_colab_link": true
    },
    "kernelspec": {
      "name": "ir",
      "display_name": "R"
    },
    "language_info": {
      "name": "R"
    }
  },
  "cells": [
    {
      "cell_type": "markdown",
      "metadata": {
        "id": "view-in-github",
        "colab_type": "text"
      },
      "source": [
        "<a href=\"https://colab.research.google.com/github/pat-nb/rock-paper-scissors-game-with-r/blob/main/datarockie_bootcamp_hw_rock_paper_scissors_game_by_patb.ipynb\" target=\"_parent\"><img src=\"https://colab.research.google.com/assets/colab-badge.svg\" alt=\"Open In Colab\"/></a>"
      ]
    },
    {
      "cell_type": "code",
      "execution_count": null,
      "metadata": {
        "id": "qzuMTReXK5Ud"
      },
      "outputs": [],
      "source": [
        "## Created by Nichapat (Pat) Boonprasertsri\n",
        "\n",
        "play_rps_game <- function() {\n",
        "  supported_user_action <- c(\"rock\", \"paper\", \"scissors\", \"quit\")\n",
        "  supported_com_action <- supported_user_action[1:3]\n",
        "  scores <- c(0,0,0)\n",
        "  names(scores) <- c(\"win\", \"lose\", \"tie\")\n",
        "  \n",
        "  while (TRUE) {\n",
        "    user_action <- tolower(readline(\"Your Action (rock, paper, scissors or quit): \"))\n",
        "    com_action <- sample(supported_com_action, size = 1)\n",
        "    \n",
        "    if (user_action %in% supported_user_action) {\n",
        "      if (user_action == \"quit\") {\n",
        "        return(\"Bye!\")\n",
        "      } else if (user_action == com_action) {\n",
        "        scores[3] <- scores[3] + 1\n",
        "        print(paste(\"Com Action: \", com_action))\n",
        "        print(\"Tie\")\n",
        "      } else {\n",
        "        win <- (\n",
        "          (user_action == supported_user_action[1] & com_action == supported_com_action[3])\n",
        "        | (user_action == supported_user_action[2] & com_action == supported_com_action[1])\n",
        "        | (user_action == supported_user_action[3] & com_action == supported_com_action[2]))\n",
        "        \n",
        "        print(paste(\"Com Action: \", com_action))\n",
        "        if (win) {\n",
        "          scores[1] <- scores[1] + 1\n",
        "          print(\"You win\")\n",
        "        } else {\n",
        "          scores[2] <- scores[2] + 1\n",
        "          print(\"You lose\")\n",
        "        }\n",
        "      }\n",
        "    } else {\n",
        "      print(\"Incorrect action. Please try again.\")\n",
        "    }\n",
        "    print(scores)\n",
        "  }\n",
        "}"
      ]
    },
    {
      "cell_type": "code",
      "source": [
        "play_rps_game()"
      ],
      "metadata": {
        "colab": {
          "base_uri": "https://localhost:8080/",
          "height": 225
        },
        "id": "5nw4H1Lcwejz",
        "outputId": "8708ebd7-464d-44d7-8e09-596fb021ff65"
      },
      "execution_count": null,
      "outputs": [
        {
          "output_type": "stream",
          "name": "stdout",
          "text": [
            "Your Action (rock, paper, scissors or quit): paper\n",
            "Your Action (rock, paper, scissors or quit): rock\n",
            "Your Action (rock, paper, scissors or quit): quit\n",
            "[1] \"Com Action:  paper\"\n",
            "[1] \"Tie\"\n",
            " win lose  tie \n",
            "   0    0    1 \n",
            "[1] \"Com Action:  rock\"\n",
            "[1] \"Tie\"\n",
            " win lose  tie \n",
            "   0    0    2 \n"
          ]
        },
        {
          "output_type": "display_data",
          "data": {
            "text/html": [
              "'Bye!'"
            ],
            "text/markdown": "'Bye!'",
            "text/latex": "'Bye!'",
            "text/plain": [
              "[1] \"Bye!\""
            ]
          },
          "metadata": {}
        }
      ]
    }
  ]
}